{
 "cells": [
  {
   "cell_type": "markdown",
   "metadata": {},
   "source": [
    "<h1><span style=\"color: #993300;\">Python Class Project #2</span></h1>\n",
    "<h2><span style=\"color: #993300;\">The Lotto Winning Number Analysis</span></h2>\n",
    "<p><span style=\"color: #0000ff;\">[Project Description]&nbsp;</span></p>\n",
    "<p><span style=\"color: #000000;\">In this class project, we analyze the winning numbers of lotto games.&nbsp;There are over the 700 games and 6 winning numbers at each game. We can search and find a lot of lotto number recommending on-line sites. They are using their own recommending algorithms. For example,&nbsp;</span></p>\n",
    "<ul>\n",
    "<li><span style=\"color: #000000;\">The accumulated &nbsp;frequency of the each number in total games</span></li>\n",
    "<li><span style=\"color: #000000;\">The accumulated &nbsp;frequency of the each number in the last N games</span></li>\n",
    "<li><span style=\"color: #000000;\">What is the most frequently used number ?</span></li>\n",
    "<li><span style=\"color: #000000;\">What is the least frequently used number ?</span></li>\n",
    "<li><span style=\"color: #000000;\">What is the most/least frequently used number in the last N weeks?</span></li>\n",
    "<li><span style=\"color: #000000;\">How is the average gap between max and min number?</span></li>\n",
    "<li><span style=\"color: #000000;\">Random 6 numbers that are satisfied with&nbsp;</span>\n",
    "<ul>\n",
    "<li><span style=\"color: #000000;\">Max - Min &lt; average of gap</span></li>\n",
    "<li><span style=\"color: #000000;\">in the top N of the accumulated frequency</span></li>\n",
    "<li><span style=\"color: #000000;\">not in the least M of accumulated frequency</span></li>\n",
    "</ul>\n",
    "</li>\n",
    "</ul>\n",
    "<p><span style=\"color: #000000;\">&nbsp;</span></p>"
   ]
  },
  {
   "cell_type": "markdown",
   "metadata": {},
   "source": [
    "<h2><span style=\"color: #993300;\">Pandas</span></h2>\n",
    "<ul>\n",
    "<li class=\"nav-item nav-item-0\"><a href=\"http://pandas.pydata.org/pandas-docs/stable/index.html\">pandas 0.19.2 documentation</a> &raquo;</li>\n",
    "</ul>\n",
    "<img src=\"http://www.clipular.com/c/5725045629648896.png?k=x2OJ_Y1gT74aYebqP4XbbS4yPQA\" >"
   ]
  },
  {
   "cell_type": "markdown",
   "metadata": {},
   "source": [
    "<h2>&nbsp;<a href=\"https://github.com/dblabsju/05979-01-Python/blob/master/Panda%20Intro.ipynb\">Introduction Pandas </a></h2>"
   ]
  },
  {
   "cell_type": "markdown",
   "metadata": {},
   "source": [
    "<h2><span style=\"color: #993300;\">Getting Winning Numbers from a CSV File </span></h2>"
   ]
  },
  {
   "cell_type": "markdown",
   "metadata": {},
   "source": [
    "<h3>CSV File Reading and Writing</h3>\n",
    "<p>&nbsp;</p>\n",
    "<p>CSV (Comma Separated Values) format is the most common import and export format for spreadsheets and databases.</p>\n",
    "<p>&nbsp;</p>\n",
    "<p><code class=\"descclassname\">csv.</code><code class=\"descname\">reader</code><span class=\"sig-paren\">(</span><em>csvfile</em>, <em>dialect='excel'</em>, <em>**fmtparams</em><span class=\"sig-paren\">)</span></p>\n",
    "<p>A short usage example:</p>\n",
    "<div class=\"highlight-python\">\n",
    "<div class=\"highlight\"><span class=\"copybutton\" title=\"Hide the prompts and output\">&gt;&gt;&gt;</span>\n",
    "<pre><span class=\"gp\">&gt;&gt;&gt; </span><span class=\"kn\">import</span> <span class=\"nn\">csv</span>\n",
    "<span class=\"gp\">&gt;&gt;&gt; </span><span class=\"k\">with</span> <span class=\"nb\">open</span><span class=\"p\">(</span><span class=\"s1\">'eggs.csv'</span><span class=\"p\">,</span> <span class=\"s1\">'rb'</span><span class=\"p\">)</span> <span class=\"k\">as</span> <span class=\"n\">csvfile</span><span class=\"p\">:</span>\n",
    "<span class=\"gp\">... </span>    <span class=\"n\">spamreader</span> <span class=\"o\">=</span> <span class=\"n\">csv</span><span class=\"o\">.</span><span class=\"n\">reader</span><span class=\"p\">(</span><span class=\"n\">csvfile</span><span class=\"p\">,</span> <span class=\"n\">delimiter</span><span class=\"o\">=</span><span class=\"s1\">' '</span><span class=\"p\">,</span> <span class=\"n\">quotechar</span><span class=\"o\">=</span><span class=\"s1\">'|'</span><span class=\"p\">)</span>\n",
    "<span class=\"gp\">... </span>    <span class=\"k\">for</span> <span class=\"n\">row</span> <span class=\"ow\">in</span> <span class=\"n\">spamreader</span><span class=\"p\">:</span>\n",
    "<span class=\"gp\">... </span>        <span class=\"k\">print</span> <span class=\"s1\">', '</span><span class=\"o\">.</span><span class=\"n\">join</span><span class=\"p\">(</span><span class=\"n\">row</span><span class=\"p\">)</span>\n",
    "<span class=\"go\">Spam, Spam, Spam, Spam, Spam, Baked Beans</span>\n",
    "<span class=\"go\">Spam, Lovely Spam, Wonderful Spam</span>\n",
    "</pre>\n",
    "</div>\n",
    "</div>\n",
    "<div class=\"versionchanged\">\n",
    "<p>&nbsp;</p>\n",
    "</div>"
   ]
  },
  {
   "cell_type": "markdown",
   "metadata": {},
   "source": [
    "<h2><span style=\"color: #993300;\">Preliminaries for Analysis</span></h2>"
   ]
  },
  {
   "cell_type": "markdown",
   "metadata": {},
   "source": [
    "<ul>\n",
    "<li>All list of winning numbers for all games</li>\n",
    "<li>Gap of Max and Min Numbers of Each Game</li>\n",
    "<li>Total count of Outcomes for each Number</li>\n",
    "<li>Total count of Outcomes for each Number in the last N weeks</li>\n",
    "<li>The number of Games that the gap is over the 40, 30, 20</li>\n",
    "</ul>"
   ]
  },
  {
   "cell_type": "markdown",
   "metadata": {},
   "source": [
    "<img src=\"http://www.clipular.com/c/6421260927238144.png?k=sDJTf0RwX4aMscfcnvOUb_s647c\">"
   ]
  },
  {
   "cell_type": "markdown",
   "metadata": {},
   "source": [
    "<img src=\"http://www.clipular.com/c/6592091372388352.png?k=TBoK2Pcb0CL71Lh0uijsfTIAkro\">"
   ]
  },
  {
   "cell_type": "markdown",
   "metadata": {},
   "source": [
    "<img src=\"http://www.clipular.com/c/6284414008164352.png?k=pZaObr23V2pJu9hGHSTa6bhYmaM\">"
   ]
  },
  {
   "cell_type": "markdown",
   "metadata": {},
   "source": [
    "<h2><span style=\"color: #993300;\">Implementation</span></h2>"
   ]
  },
  {
   "cell_type": "markdown",
   "metadata": {},
   "source": [
    "<h3> MK_SR_all</h3>\n",
    "<ul>\n",
    "<li> Open a file that includes winning numbers with CSV file type</li>\n",
    "<li> convert comma-seperated file to a space-sperated file by using csv.reader()</li>\n",
    "<li> convert string type value into integer type value by using map(int, list) </li>\n",
    "<li> Add the converted integer list to the series SR_all item </li>\n",
    "<li> Use the game round number as a index of Series SR_all </li>\n",
    "<li> The first line of csv file is the latest game(the largest roung number)\n",
    "</ul>"
   ]
  },
  {
   "cell_type": "code",
   "execution_count": 11,
   "metadata": {},
   "outputs": [
    {
     "name": "stdout",
     "output_type": "stream",
     "text": [
<<<<<<< HEAD
      "the Size of Series SR_all :  829\n",
      "[4, 7, 13, 29, 31, 39, 18]\n",
      "[5, 11, 12, 29, 33, 44, 14]\n",
      "[13, 16, 24, 25, 33, 36, 42]\n",
      "[8, 15, 21, 31, 33, 38, 42]\n",
      "[7, 9, 24, 29, 34, 38, 26]\n",
      "[12, 18, 24, 26, 39, 40, 15]\n",
      "[9, 18, 20, 24, 27, 36, 12]\n",
      "[1, 12, 13, 24, 29, 44, 16]\n",
      "[10, 21, 22, 30, 35, 42, 6]\n",
      "[16, 25, 33, 38, 40, 45, 15]\n"
=======
      "the Size of Series SR_all :  826\n",
      "[13, 16, 24, 25, 33, 36]\n",
      "[8, 15, 21, 31, 33, 38]\n",
      "[7, 9, 24, 29, 34, 38]\n",
      "[12, 18, 24, 26, 39, 40]\n",
      "[9, 18, 20, 24, 27, 36]\n",
      "[1, 12, 13, 24, 29, 44]\n",
      "[10, 21, 22, 30, 35, 42]\n",
      "[16, 25, 33, 38, 40, 45]\n",
      "[14, 15, 25, 28, 29, 30]\n",
      "[3, 9, 12, 13, 25, 43]\n"
>>>>>>> eff820df012ba45429cd20f2f13567653c7b1c3e
     ]
    }
   ],
   "source": [
    "import csv\n",
    "from pandas import Series, DataFrame\n",
    "\n",
    "def MK_SR_all():\n",
    "    SR_all = Series([]) # Series of All Winning Numbers. Each item of Series is a list\n",
    "    \n",
    "    # MAKE SR_all \n",
    "    with open('lt.csv', 'rb') as csvfile:\n",
    "        NLINES = len(csvfile.readlines()) # get a number of lines to use the index of Series SR_all\n",
    "        csvfile.seek(0,0) # reset file read position\n",
    "        rfile = csv.reader(csvfile, delimiter=',') # csv file -> space separated file\n",
    "        i = 0\n",
    "        for rline in rfile:\n",
    "            SR_all[NLINES-i] = map(int, rline) # string value -> integer value. assign from the last index to the first index\n",
    "            i += 1\n",
    "    return SR_all\n",
    "\n",
    "SR_all = MK_SR_all()\n",
    "print 'the Size of Series SR_all : ', len(SR_all)\n",
<<<<<<< HEAD
    "for i in range(len(SR_all)-1,(len(SR_all)-11),-1):  # print the SR_all[1:11] \n",
=======
    "for i in range(len(SR_all),len(SR_all)-10, -1):  # print the SR_all[1:11] \n",
>>>>>>> eff820df012ba45429cd20f2f13567653c7b1c3e
    "    print SR_all[i]\n",
    "    \n"
   ]
  },
  {
   "cell_type": "markdown",
   "metadata": {},
   "source": [
    "<h3> MK_SR_gap</h3>\n",
    "<img src=\"http://www.clipular.com/c/6731653381881856.png?k=DTq6hh9SnvuZ2hpzAf_IHnWRH54\">"
   ]
  },
  {
   "cell_type": "code",
   "execution_count": 2,
   "metadata": {},
   "outputs": [
    {
     "name": "stdout",
     "output_type": "stream",
     "text": [
<<<<<<< HEAD
      "The size of SR_gap 829\n",
      "30 40 20 40 39 28 40 31 37 38 \n",
      ">40\t\t\t132 \n",
      "30 < gap < 40\t\t480 \n",
      "20 < gap < 30\t\t154 \n",
      "10 < gap < 20\t\t63 \n",
=======
      "The size of SR_gap 826\n",
      "30 33 20 28 26 28 38 31 37 35 \n",
      ">40\t\t\t101 \n",
      "30 < gap < 40\t\t391 \n",
      "20 < gap < 30\t\t243 \n",
      "10 < gap < 20\t\t91 \n",
>>>>>>> eff820df012ba45429cd20f2f13567653c7b1c3e
      "0 < gap < 10\t\t0\n"
     ]
    }
   ],
   "source": [
    "# Make SR_gap \n",
    "def MK_SR_gap(SR_all):\n",
    "    SR_gap = Series([])\n",
    "    for i,v in SR_all.iteritems():\n",
    "        SR_gap[i] = max(v) - min(v)\n",
    "    return SR_gap\n",
    "\n",
    "\n",
    "SR_gap = MK_SR_gap(SR_all)\n",
    "print 'The size of SR_gap', len(SR_gap)\n",
    "for i in range(1,11):\n",
    "    print SR_gap[i],\n",
    "print ''\n",
    "\n",
    "\n",
    "over = [0,0,0,0,0]\n",
    "for i in SR_gap:\n",
    "        if SR_gap[i] > 40:\n",
    "            over[0] += 1\n",
    "        elif SR_gap[i] > 30:  # 30 < gap < 40\n",
    "            over[1] += 1\n",
    "        elif SR_gap[i]  > 20: # 20 < gap < 30\n",
    "            over[2] += 1\n",
    "        elif SR_gap[i]  > 10: # 10 < gap < 20\n",
    "            over[3] += 1\n",
    "        elif SR_gap[i]  > 0: # 0 < gap 10\n",
    "            over[4] += 1\n",
    "print '>40\\t\\t\\t', over[0], '\\n30 < gap < 40\\t\\t', over[1], '\\n20 < gap < 30\\t\\t', over[2], '\\n10 < gap < 20\\t\\t', over[3],'\\n0 < gap < 10\\t\\t', over[4]"
   ]
  },
  {
   "cell_type": "markdown",
   "metadata": {},
   "source": [
    "<h3> MK_SR_cnt</h3>\n",
    "\n",
    "<img src=\"http://www.clipular.com/c/4863992758796288.png?k=xbZkyRMqZJjZ97sAHm-aWuh6DEc\">"
   ]
  },
  {
   "cell_type": "code",
   "execution_count": 3,
   "metadata": {},
   "outputs": [
    {
     "name": "stdout",
     "output_type": "stream",
     "text": [
<<<<<<< HEAD
      "1     145\n",
      "2     132\n",
      "3     128\n",
      "4     138\n",
      "5     129\n",
      "6     128\n",
      "7     133\n",
      "8     132\n",
      "9     102\n",
      "10    137\n",
      "11    134\n",
      "12    139\n",
      "13    139\n",
      "14    132\n",
      "15    130\n",
      "16    127\n",
      "17    139\n",
      "18    129\n",
      "19    127\n",
      "20    140\n",
      "21    131\n",
      "22    101\n",
      "23    111\n",
      "24    132\n",
      "25    125\n",
      "26    130\n",
      "27    148\n",
      "28    111\n",
      "29    113\n",
      "30    120\n",
      "31    134\n",
      "32    112\n",
      "33    138\n",
      "34    145\n",
      "35    123\n",
      "36    126\n",
      "37    133\n",
      "38    125\n",
      "39    129\n",
      "40    137\n",
      "41    114\n",
      "42    122\n",
      "43    148\n",
      "44    126\n",
      "45    129\n",
      "dtype: int64\n",
      "1     11\n",
      "2     15\n",
      "3     15\n",
      "4     16\n",
      "5     14\n",
      "6     17\n",
      "7     15\n",
      "8     10\n",
      "9     15\n",
      "10    24\n",
      "11    17\n",
      "12    30\n",
      "13    17\n",
      "14    13\n",
      "15    19\n",
      "16    19\n",
      "17    17\n",
      "18    20\n",
      "19    15\n",
      "20     8\n",
      "21    22\n",
      "22    10\n",
      "23     8\n",
      "24    20\n",
      "25    12\n",
      "26    12\n",
      "27    17\n",
      "28    12\n",
      "29    15\n",
      "30    15\n",
      "31    19\n",
      "32    13\n",
      "33    16\n",
      "34    20\n",
      "35    11\n",
      "36    19\n",
      "37     9\n",
      "38    16\n",
      "39    14\n",
      "40    10\n",
      "41    17\n",
      "42    19\n",
      "43    19\n",
      "44    10\n",
=======
      "1     119\n",
      "2     108\n",
      "3     109\n",
      "4     112\n",
      "5     113\n",
      "6     105\n",
      "7     113\n",
      "8     114\n",
      "9      84\n",
      "10    118\n",
      "11    114\n",
      "12    119\n",
      "13    115\n",
      "14    116\n",
      "15    114\n",
      "16    103\n",
      "17    118\n",
      "18    116\n",
      "19    113\n",
      "20    122\n",
      "21    111\n",
      "22     89\n",
      "23     98\n",
      "24    113\n",
      "25    109\n",
      "26    110\n",
      "27    125\n",
      "28     97\n",
      "29    101\n",
      "30     98\n",
      "31    113\n",
      "32     94\n",
      "33    113\n",
      "34    131\n",
      "35    102\n",
      "36    111\n",
      "37    116\n",
      "38    105\n",
      "39    109\n",
      "40    122\n",
      "41    101\n",
      "42    104\n",
      "43    116\n",
      "44    108\n",
      "45    115\n",
      "dtype: int64\n",
      "1     10\n",
      "2     13\n",
      "3     14\n",
      "4      8\n",
      "5     11\n",
      "6     15\n",
      "7     14\n",
      "8     11\n",
      "9     12\n",
      "10    22\n",
      "11    14\n",
      "12    25\n",
      "13    14\n",
      "14    12\n",
      "15    16\n",
      "16    14\n",
      "17    14\n",
      "18    17\n",
      "19    16\n",
      "20     6\n",
      "21    23\n",
      "22     8\n",
      "23     8\n",
      "24    18\n",
      "25    10\n",
      "26    11\n",
      "27    14\n",
      "28    12\n",
      "29    10\n",
      "30    12\n",
      "31    16\n",
      "32     9\n",
      "33    12\n",
      "34    19\n",
      "35    10\n",
      "36    16\n",
      "37     9\n",
      "38    14\n",
      "39    10\n",
      "40     8\n",
      "41    15\n",
      "42    17\n",
      "43    15\n",
      "44     8\n",
>>>>>>> eff820df012ba45429cd20f2f13567653c7b1c3e
      "45    18\n",
      "dtype: int64\n"
     ]
    }
   ],
   "source": [
    "# MAKE SR_cnt and SR_Ncnt\n",
    "def MK_SR_cnt(SR_all):\n",
    "    #NLINES = len(SR_all)\n",
    "    NLINES = SR_all.count()\n",
    "    Nweeks = 100\n",
    "#    Nweeks = 798\n",
    "\n",
    "    SR_cnt = Series(0, index=range(1,46))\n",
    "    SR_Ncnt = Series(0, index=range(1,46))\n",
    "    for i,v in SR_all.iteritems(): \n",
    "        for listitems in v:\n",
    "            if (i > NLINES - Nweeks): \n",
    "                SR_Ncnt[listitems] += 1\n",
    "            SR_cnt[listitems] += 1      \n",
    "    return SR_cnt, SR_Ncnt\n",
    "\n",
    "SR_cnt, SR_Ncnt = MK_SR_cnt(SR_all)\n",
    "print SR_cnt\n",
    "print SR_Ncnt"
   ]
  },
  {
   "cell_type": "markdown",
   "metadata": {},
   "source": [
    "<h3> Draw_SR_gap</h3>"
   ]
  },
  {
   "cell_type": "code",
   "execution_count": 4,
   "metadata": {
    "scrolled": true
   },
   "outputs": [
    {
     "data": {
<<<<<<< HEAD
      "image/png": "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\n",
      "text/plain": [
       "<matplotlib.figure.Figure at 0x1145aa750>"
=======
      "image/png": "iVBORw0KGgoAAAANSUhEUgAAA8QAAADQCAYAAADBA6jnAAAABHNCSVQICAgIfAhkiAAAAAlwSFlz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\nRK5CYII=\n",
      "text/plain": [
       "<matplotlib.figure.Figure at 0x9753da0>"
>>>>>>> eff820df012ba45429cd20f2f13567653c7b1c3e
      ]
     },
     "metadata": {},
     "output_type": "display_data"
    }
   ],
   "source": [
    "def Draw_SR_gap(SR_gap):\n",
    "    # Make Graph\n",
    "    from itertools import cycle, islice\n",
    "\n",
    "    import matplotlib.pyplot as plt\n",
    "    import matplotlib\n",
    "    %matplotlib inline\n",
    "\n",
    "    my_colors = list(islice(cycle(['orange', 'darkgrey', 'green', 'y', 'k']), None, len(SR_gap)))\n",
    "\n",
    "    fig = plt.figure()\n",
    "    plt.text(50, 47, 'Gap of Winning Numbers between Max and Min', horizontalalignment='center', fontsize=16)\n",
    "    SR_gap[:100].plot(kind='bar', figsize=(13.5,3),  color=my_colors)\n",
    "    plt.xlim(0,100)  # draw the latest 100 weeks gaps\n",
    "    plt.ylim((0,50))\n",
    "    plt.tight_layout()\n",
    "    plt.show()\n",
    "    fig.savefig('gap.png', dpi=fig.dpi)\n",
    "\n",
    "Draw_SR_gap(SR_gap)\n"
   ]
  },
  {
   "cell_type": "markdown",
   "metadata": {},
   "source": [
    "<h3> Draw_SR_cnt</h3>"
   ]
  },
  {
   "cell_type": "code",
   "execution_count": 5,
   "metadata": {},
   "outputs": [
    {
     "data": {
<<<<<<< HEAD
      "image/png": "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\n",
      "text/plain": [
       "<matplotlib.figure.Figure at 0x114572150>"
=======
      "image/png": "iVBORw0KGgoAAAANSUhEUgAAA8QAAADQCAYAAADBA6jnAAAABHNCSVQICAgIfAhkiAAAAAlwSFlz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\nJxCn7gAAAABJRU5ErkJggg==\n",
      "text/plain": [
       "<matplotlib.figure.Figure at 0x869a518>"
>>>>>>> eff820df012ba45429cd20f2f13567653c7b1c3e
      ]
     },
     "metadata": {},
     "output_type": "display_data"
    },
    {
     "data": {
<<<<<<< HEAD
      "image/png": "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\n",
      "text/plain": [
       "<matplotlib.figure.Figure at 0x1186b8b90>"
=======
      "image/png": "iVBORw0KGgoAAAANSUhEUgAAA8QAAADQCAYAAADBA6jnAAAABHNCSVQICAgIfAhkiAAAAAlwSFlz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\n",
      "text/plain": [
       "<matplotlib.figure.Figure at 0xb056e10>"
>>>>>>> eff820df012ba45429cd20f2f13567653c7b1c3e
      ]
     },
     "metadata": {},
     "output_type": "display_data"
    },
    {
     "data": {
<<<<<<< HEAD
      "image/png": "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\n",
      "text/plain": [
       "<matplotlib.figure.Figure at 0x118913550>"
=======
      "image/png": "iVBORw0KGgoAAAANSUhEUgAAA8QAAADQCAYAAADBA6jnAAAABHNCSVQICAgIfAhkiAAAAAlwSFlz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\nAAAARCUKYgAAAABAVKIgBgAAAABEpf8Ppwj8pwxxe9oAAAAASUVORK5CYII=\n",
      "text/plain": [
       "<matplotlib.figure.Figure at 0xa3f3908>"
>>>>>>> eff820df012ba45429cd20f2f13567653c7b1c3e
      ]
     },
     "metadata": {},
     "output_type": "display_data"
    }
   ],
   "source": [
    "# Make Graph\n",
    "def Draw_SR_cnt(SR_cnt, SR_Ncnt):\n",
    "    from itertools import cycle, islice\n",
    "\n",
    "    import matplotlib.pyplot as plt\n",
    "    import matplotlib\n",
    "    %matplotlib inline\n",
    "\n",
    "    my_colors = list(islice(cycle(['orange', 'darkgrey', 'green', 'y', 'k']), None, len(SR_gap)))\n",
    "\n",
    "    fig1 = plt.figure()\n",
    "    #plt.suptitle('Total Count of Outcomes(order by frequency)', fontsize=12)\n",
    "    plt.text(23,125,'Total count of outcomes(order by count)', horizontalalignment='center', fontsize=16)\n",
    "    SR_cnt.sort_values(ascending=False).plot(kind='bar', figsize=(13.5,3),  color=my_colors)\n",
    "    plt.xlim(0,46)\n",
    "    plt.ylim((70,130))\n",
    "    plt.tight_layout()\n",
    "    plt.show()\n",
    "    fig1.savefig('freq_orderby_freq.png',dpi=fig1.dpi)\n",
    "\n",
    "    my_colors = list(islice(cycle(['orange', 'darkgrey', 'green', 'y', 'k']), None, len(SR_gap)))\n",
    "\n",
    "    fig2 = plt.figure()\n",
    "    #plt.suptitle('Total count of Outcomes(order by number)', fontsize=14)\n",
    "    plt.text(23,125,'Total count of outcomes(order by number)', horizontalalignment='center', fontsize=16)\n",
    "    SR_cnt.plot(kind='bar', figsize=(13.5,3),  color=my_colors)\n",
    "    plt.xlim(0,46)\n",
    "    plt.ylim((70,130))\n",
    "    plt.tight_layout()\n",
    "    plt.show()\n",
    "    fig2.savefig('freq_1toN.png', dpi=fig2.dpi)\n",
    "\n",
    "    fig3 = plt.figure()\n",
    "    plt.text(23,30,'Total count of Outcomes in the latest N weeks(order by Count)', horizontalalignment='center', fontsize=16)\n",
    "    SR_Ncnt.sort_values(ascending=False).plot(kind='bar', figsize=(13.5,3),  color=my_colors)\n",
    "    plt.xlim(0,46)\n",
    "    plt.ylim((0,35))\n",
    "    plt.tight_layout()\n",
    "    plt.show()\n",
    "    fig3.savefig('freqN_orderby_freq.png',dpi=fig1.dpi)\n",
    "\n",
    "    \n",
    "    \n",
    "    \n",
    "Draw_SR_cnt(SR_cnt, SR_Ncnt)\n"
   ]
  },
  {
   "cell_type": "markdown",
   "metadata": {},
   "source": [
    "<h3>Generate Recommended Random Numbers </h3>\n",
    "<img src=\"http://www.clipular.com/c/5728872135131136.png?k=TvQwV7xbSl5u6rDDp9fp2AvuOGI\">"
   ]
  },
  {
   "cell_type": "code",
   "execution_count": 6,
   "metadata": {},
   "outputs": [
    {
     "name": "stdout",
     "output_type": "stream",
     "text": [
<<<<<<< HEAD
      "Recommended List RC1-1 (Most Selected Top 6 Numbers) [1, 13, 17, 20, 27, 34, 43]\n",
      "Recommended List RC1-2 (Most Selected Top 6 Numbers in the last N weeks) [10, 12, 18, 21, 24, 31, 34]\n"
=======
      "Recommended List RC1-1 (Most Selected Top 6 Numbers) [1, 10, 12, 20, 27, 34, 40]\n",
      "Recommended List RC1-2 (Most Selected Top 6 Numbers in the last N weeks) [10, 12, 18, 21, 24, 34, 45]\n"
>>>>>>> eff820df012ba45429cd20f2f13567653c7b1c3e
     ]
    }
   ],
   "source": [
    "def Gen_RC1(SR_cnt, SR_Ncnt):\n",
    "    top6 = SR_cnt.sort_values(ascending=False)[:7].index.tolist()\n",
    "    top6N = SR_Ncnt.sort_values(ascending=False)[:7].index.tolist()\n",
    "    return sorted(top6), sorted(top6N)\n",
    "\n",
    "top6, top6N = Gen_RC1(SR_cnt, SR_Ncnt)   \n",
    "print 'Recommended List RC1-1 (Most Selected Top 6 Numbers)', top6\n",
    "print 'Recommended List RC1-2 (Most Selected Top 6 Numbers in the last N weeks)', top6N"
   ]
  },
  {
   "cell_type": "code",
<<<<<<< HEAD
   "execution_count": 7,
=======
   "execution_count": 12,
>>>>>>> eff820df012ba45429cd20f2f13567653c7b1c3e
   "metadata": {
    "scrolled": false
   },
   "outputs": [
    {
     "name": "stdout",
     "output_type": "stream",
     "text": [
<<<<<<< HEAD
      "Candidates Numbers 27\n",
      "Candidates List [1, 2, 4, 5, 7, 8, 10, 11, 12, 13, 14, 15, 17, 18, 20, 21, 24, 26, 27, 31, 33, 34, 37, 39, 40, 43, 45]\n",
      "[8, 11, 18, 31, 39, 40]\n",
      "[1, 5, 18, 26, 37, 39]\n",
      "[7, 13, 14, 26, 37, 45]\n",
      "[7, 12, 14, 17, 18, 20]\n",
      "[12, 20, 24, 27, 33, 39]\n",
      "1 5 7 8 11 12 13 14 17 18 20 24 26 27 31 33 37 39 40 45 \n"
=======
      "Candidates Numbers 26\n",
      "Candidates List [1, 4, 5, 7, 8, 10, 11, 12, 13, 14, 15, 17, 18, 19, 20, 21, 24, 27, 31, 33, 34, 36, 37, 40, 43, 45]\n",
      "평균빈도수보다 많이 나온 숫자들 중 추천\n",
      "[4, 5, 13, 15, 17, 21]\n",
      "[7, 10, 17, 33, 37, 45]\n",
      "[7, 17, 24, 37, 40, 45]\n",
      "[4, 7, 17, 24, 33, 45]\n",
      "[8, 14, 31, 34, 40, 45]\n",
      "4 5 7 8 10 13 14 15 17 21 24 31 33 34 37 40 45 \n"
>>>>>>> eff820df012ba45429cd20f2f13567653c7b1c3e
     ]
    }
   ],
   "source": [
    "def Gen_RC2(SR_cnt):\n",
    "    import random\n",
    "    RC2 = []\n",
    "    rlist = []\n",
    "    cond_val = SR_cnt.mean(0)\n",
    "    #for i, v in SR_cnt.iteritems():\n",
    "    #    if v > cond_val:\n",
    "    #        rlist.append(i)\n",
    "    rlist = SR_cnt[SR_cnt > cond_val].index.tolist()\n",
    "    print 'Candidates Numbers', len(rlist)\n",
    "    print 'Candidates List', rlist\n",
    "    for i in range(5):\n",
    "        rclist = random.sample(rlist, 6)\n",
    "        for v in rclist:\n",
    "            selected.add(v)\n",
    "        RC2.append(sorted(rclist))\n",
    "    return RC2\n",
    "\n",
    "selected = set() \n",
    "RC2 = Gen_RC2(SR_cnt)\n",
    "print \"평균빈도수보다 많이 나온 숫자들 중 추천\"\n",
    "for i in range(len(RC2)):\n",
    "    print RC2[i]\n",
    "for v in sorted(selected):\n",
    "    print v,\n",
    "print ''"
   ]
  },
  {
   "cell_type": "code",
<<<<<<< HEAD
   "execution_count": 8,
=======
   "execution_count": 13,
>>>>>>> eff820df012ba45429cd20f2f13567653c7b1c3e
   "metadata": {},
   "outputs": [
    {
     "name": "stdout",
     "output_type": "stream",
     "text": [
<<<<<<< HEAD
      "Candidates Numbers 18\n",
      "Candidates List [3, 6, 9, 16, 19, 22, 23, 25, 28, 29, 30, 32, 35, 36, 38, 41, 42, 44]\n",
      "[9, 22, 25, 36, 41, 42]\n",
      "[16, 19, 22, 30, 35, 36]\n",
      "[3, 6, 25, 29, 30, 44]\n",
      "[3, 30, 32, 36, 38, 42]\n",
      "[16, 19, 22, 23, 32, 42]\n",
      "1 3 5 6 7 8 9 11 12 13 14 16 17 18 19 20 22 23 24 25 26 27 29 30 31 32 33 35 36 37 38 39 40 41 42 44 45 \n"
=======
      "Candidates Numbers 19\n",
      "Candidates List [2, 3, 6, 9, 16, 22, 23, 25, 26, 28, 29, 30, 32, 35, 38, 39, 41, 42, 44]\n",
      "평균빈도수보다 적게 나온 숫자들 중 추천\n",
      "[9, 26, 35, 39, 42, 44]\n",
      "[2, 6, 26, 29, 30, 32]\n",
      "[9, 23, 26, 38, 42, 44]\n",
      "[23, 25, 26, 28, 29, 41]\n",
      "[6, 23, 32, 35, 38, 41]\n",
      "2 4 5 6 7 8 9 10 13 14 15 17 21 23 24 25 26 28 29 30 31 32 33 34 35 37 38 39 40 41 42 44 45 \n"
>>>>>>> eff820df012ba45429cd20f2f13567653c7b1c3e
     ]
    }
   ],
   "source": [
    "def Gen_RC3(SR_cnt, selected):\n",
    "    import random\n",
    "    RC3 = []\n",
    "    rlist = []\n",
    "    cond_val = SR_cnt.mean(0)\n",
    "    #for i, v in SR_cnt.iteritems():\n",
    "    #    if v < cond_val:\n",
    "    #        rlist.append(i)\n",
    "    rlist = SR_cnt[SR_cnt < cond_val].index.tolist()\n",
    "    print 'Candidates Numbers', len(rlist)\n",
    "    print 'Candidates List', rlist\n",
    "    for i in range(5):\n",
    "        rclist = random.sample(rlist, 6)\n",
    "        for v in rclist:\n",
    "            selected.add(v)\n",
    "        RC3.append(sorted(rclist))\n",
    "    return RC3\n",
    "\n",
    "RC3 = Gen_RC3(SR_cnt, selected)\n",
    "print \"평균빈도수보다 적게 나온 숫자들 중 추천\"\n",
    "for i in range(len(RC3)):\n",
    "    print RC3[i]\n",
    "for v in selected:\n",
    "    print v,\n",
    "print ''"
   ]
  },
  {
   "cell_type": "code",
<<<<<<< HEAD
   "execution_count": 22,
=======
   "execution_count": 14,
>>>>>>> eff820df012ba45429cd20f2f13567653c7b1c3e
   "metadata": {
    "scrolled": true
   },
   "outputs": [
    {
     "name": "stdout",
     "output_type": "stream",
     "text": [
<<<<<<< HEAD
      "1 3 5 6 7 8 9 11 12 13 14 16 17 18 19 20 22 23 24 25 26 27 29 30 31 32 33 35 36 37 38 39 40 41 42 44 45 \n",
      "rlist [2, 4, 10, 15, 21, 28, 34, 43]\n",
      "[2, 15, 21, 28, 34, 43]\n",
      "[2, 10, 15, 28, 34, 43]\n",
      "[2, 4, 10, 21, 28, 34]\n",
      "[4, 10, 15, 28, 34, 43]\n",
      "[2, 4, 15, 21, 34, 43]\n"
=======
      "2 4 5 6 7 8 9 10 13 14 15 17 21 23 24 25 26 28 29 30 31 32 33 34 35 37 38 39 40 41 42 44 45 \n",
      "rlist [1, 3, 36, 11, 12, 16, 43, 18, 19, 20, 22, 27]\n",
      "[1, 12, 16, 20, 27, 36]\n",
      "[1, 3, 12, 18, 22, 36]\n",
      "[1, 11, 16, 19, 20, 43]\n",
      "[1, 3, 18, 27, 36, 43]\n",
      "[1, 12, 16, 18, 20, 43]\n"
>>>>>>> eff820df012ba45429cd20f2f13567653c7b1c3e
     ]
    }
   ],
   "source": [
    "def Gen_RC4():\n",
    "    import random\n",
    "    RC4 = []\n",
    "    rlist = []\n",
    "    a = set(range(1,46))\n",
    "    rlist = list(a - selected)\n",
    "    rlist.sort()\n",
    "    print 'rlist', rlist\n",
    "    \n",
    "    for i in range(5):\n",
    "        rclist = random.sample(rlist, 6)\n",
    "        RC4.append(sorted(rclist))\n",
    "    return RC4\n",
    "\n",
    "for v in selected:\n",
    "    print v,\n",
    "print ''\n",
    "\n",
    "RC4 = Gen_RC4()\n",
    "for i in range(len(RC4)):\n",
    "    print RC4[i]"
   ]
  },
  {
   "cell_type": "markdown",
   "metadata": {},
   "source": [
    "<h2><span style=\"color: #993300;\">Python Class Project Report #2</span></h2>"
   ]
  },
  {
   "cell_type": "markdown",
   "metadata": {},
   "source": [
    "## [1] Make RC5 Function\n",
    "\n",
    "<blockquote><span class=\"parent-word\" style=\"color: #0000ff;\" data-transform-scale-x=\"0.8498908284270901\" data-canvas-width=\"600.89315\">such that&nbsp;</span>\n",
    "<ul>\n",
    "<li class=\"parent-word\" data-transform-scale-x=\"0.8498908284270901\" data-canvas-width=\"600.89315\">Design and create your own algorithm for generating the recommed numbers</li>\n",
    "<li class=\"parent-word\" data-transform-scale-x=\"0.8498908284270901\" data-canvas-width=\"600.89315\">Show your data strucutre ( using the draw.io)</li>\n",
    "<li class=\"parent-word\" data-transform-scale-x=\"0.8498908284270901\" data-canvas-width=\"600.89315\">Show your functional diagram</li>\n",
    "</ul>\n",
    "<p>&nbsp;</p>\n",
    "</blockquote>"
   ]
  },
  {
   "cell_type": "markdown",
   "metadata": {},
   "source": [
    "## [2] Make CMP_to_winlist\n",
    "\n",
    "<blockquote><span class=\"parent-word\" style=\"color: #0000ff;\" data-transform-scale-x=\"0.8498908284270901\" data-canvas-width=\"600.89315\">such that&nbsp;</span>\n",
    "<ul>\n",
    "<li class=\"parent-word\" data-transform-scale-x=\"0.8498908284270901\" data-canvas-width=\"600.89315\">compare your recommended list to previous winning number list</li>\n",
    "<li class=\"parent-word\" data-transform-scale-x=\"0.8498908284270901\" data-canvas-width=\"600.89315\">find the most matched list (In best case, 6 numbers matche)</li>\n",
    "<li class=\"parent-word\" data-transform-scale-x=\"0.8498908284270901\" data-canvas-width=\"600.89315\">find the count of the least matched list ( total count of 0 match)</li>\n",
    "</ul>\n",
    "<p>&nbsp;</p>\n",
    "<p>&nbsp;</p>\n",
    "</blockquote>"
   ]
  }
 ],
 "metadata": {
  "kernelspec": {
   "display_name": "Python 2",
   "language": "python",
   "name": "python2"
  },
  "language_info": {
   "codemirror_mode": {
    "name": "ipython",
    "version": 2
   },
   "file_extension": ".py",
   "mimetype": "text/x-python",
   "name": "python",
   "nbconvert_exporter": "python",
   "pygments_lexer": "ipython2",
   "version": "2.7.13"
  }
 },
 "nbformat": 4,
 "nbformat_minor": 1
}
