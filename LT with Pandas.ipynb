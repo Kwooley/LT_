{
 "cells": [
  {
   "cell_type": "markdown",
   "metadata": {},
   "source": [
    "<h1><span style=\"color: #993300;\">Python Class Project #2</span></h1>\n",
    "<h2><span style=\"color: #993300;\">The Lotto Winning Number Analysis</span></h2>\n",
    "<p><span style=\"color: #0000ff;\">[Project Description]&nbsp;</span></p>\n",
    "<p><span style=\"color: #000000;\">In this class project, we analyze the winning numbers of lotto games.&nbsp;There are over the 700 games and 6 winning numbers at each game. We can search and find a lot of lotto number recommending on-line sites. They are using their own recommending algorithms. For example,&nbsp;</span></p>\n",
    "<ul>\n",
    "<li><span style=\"color: #000000;\">The accumulated &nbsp;frequency of the each number in total games</span></li>\n",
    "<li><span style=\"color: #000000;\">The accumulated &nbsp;frequency of the each number in the last N games</span></li>\n",
    "<li><span style=\"color: #000000;\">What is the most frequently used number ?</span></li>\n",
    "<li><span style=\"color: #000000;\">What is the least frequently used number ?</span></li>\n",
    "<li><span style=\"color: #000000;\">What is the most/least frequently used number in the last N weeks?</span></li>\n",
    "<li><span style=\"color: #000000;\">How is the average gap between max and min number?</span></li>\n",
    "<li><span style=\"color: #000000;\">Random 6 numbers that are satisfied with&nbsp;</span>\n",
    "<ul>\n",
    "<li><span style=\"color: #000000;\">Max - Min &lt; average of gap</span></li>\n",
    "<li><span style=\"color: #000000;\">in the top N of the accumulated frequency</span></li>\n",
    "<li><span style=\"color: #000000;\">not in the least M of accumulated frequency</span></li>\n",
    "</ul>\n",
    "</li>\n",
    "</ul>\n",
    "<p><span style=\"color: #000000;\">&nbsp;</span></p>"
   ]
  },
  {
   "cell_type": "markdown",
   "metadata": {},
   "source": [
    "<h2><span style=\"color: #993300;\">Pandas</span></h2>\n",
    "<ul>\n",
    "<li class=\"nav-item nav-item-0\"><a href=\"http://pandas.pydata.org/pandas-docs/stable/index.html\">pandas 0.19.2 documentation</a> &raquo;</li>\n",
    "</ul>\n",
    "<img src=\"http://www.clipular.com/c/5725045629648896.png?k=x2OJ_Y1gT74aYebqP4XbbS4yPQA\" >"
   ]
  },
  {
   "cell_type": "markdown",
   "metadata": {},
   "source": [
    "<h2>&nbsp;<a href=\"https://github.com/dblabsju/05979-01-Python/blob/master/Panda%20Intro.ipynb\">Introduction Pandas </a></h2>"
   ]
  },
  {
   "cell_type": "markdown",
   "metadata": {},
   "source": [
    "<h2><span style=\"color: #993300;\">Getting Winning Numbers from a CSV File </span></h2>"
   ]
  },
  {
   "cell_type": "markdown",
   "metadata": {},
   "source": [
    "<h3>CSV File Reading and Writing</h3>\n",
    "<p>&nbsp;</p>\n",
    "<p>CSV (Comma Separated Values) format is the most common import and export format for spreadsheets and databases.</p>\n",
    "<p>&nbsp;</p>\n",
    "<p><code class=\"descclassname\">csv.</code><code class=\"descname\">reader</code><span class=\"sig-paren\">(</span><em>csvfile</em>, <em>dialect='excel'</em>, <em>**fmtparams</em><span class=\"sig-paren\">)</span></p>\n",
    "<p>A short usage example:</p>\n",
    "<div class=\"highlight-python\">\n",
    "<div class=\"highlight\"><span class=\"copybutton\" title=\"Hide the prompts and output\">&gt;&gt;&gt;</span>\n",
    "<pre><span class=\"gp\">&gt;&gt;&gt; </span><span class=\"kn\">import</span> <span class=\"nn\">csv</span>\n",
    "<span class=\"gp\">&gt;&gt;&gt; </span><span class=\"k\">with</span> <span class=\"nb\">open</span><span class=\"p\">(</span><span class=\"s1\">'eggs.csv'</span><span class=\"p\">,</span> <span class=\"s1\">'rb'</span><span class=\"p\">)</span> <span class=\"k\">as</span> <span class=\"n\">csvfile</span><span class=\"p\">:</span>\n",
    "<span class=\"gp\">... </span>    <span class=\"n\">spamreader</span> <span class=\"o\">=</span> <span class=\"n\">csv</span><span class=\"o\">.</span><span class=\"n\">reader</span><span class=\"p\">(</span><span class=\"n\">csvfile</span><span class=\"p\">,</span> <span class=\"n\">delimiter</span><span class=\"o\">=</span><span class=\"s1\">' '</span><span class=\"p\">,</span> <span class=\"n\">quotechar</span><span class=\"o\">=</span><span class=\"s1\">'|'</span><span class=\"p\">)</span>\n",
    "<span class=\"gp\">... </span>    <span class=\"k\">for</span> <span class=\"n\">row</span> <span class=\"ow\">in</span> <span class=\"n\">spamreader</span><span class=\"p\">:</span>\n",
    "<span class=\"gp\">... </span>        <span class=\"k\">print</span> <span class=\"s1\">', '</span><span class=\"o\">.</span><span class=\"n\">join</span><span class=\"p\">(</span><span class=\"n\">row</span><span class=\"p\">)</span>\n",
    "<span class=\"go\">Spam, Spam, Spam, Spam, Spam, Baked Beans</span>\n",
    "<span class=\"go\">Spam, Lovely Spam, Wonderful Spam</span>\n",
    "</pre>\n",
    "</div>\n",
    "</div>\n",
    "<div class=\"versionchanged\">\n",
    "<p>&nbsp;</p>\n",
    "</div>"
   ]
  },
  {
   "cell_type": "markdown",
   "metadata": {},
   "source": [
    "<h2><span style=\"color: #993300;\">Preliminaries for Analysis</span></h2>"
   ]
  },
  {
   "cell_type": "markdown",
   "metadata": {},
   "source": [
    "<ul>\n",
    "<li>All list of winning numbers for all games</li>\n",
    "<li>Gap of Max and Min Numbers of Each Game</li>\n",
    "<li>Total count of Outcomes for each Number</li>\n",
    "<li>Total count of Outcomes for each Number in the last N weeks</li>\n",
    "<li>The number of Games that the gap is over the 40, 30, 20</li>\n",
    "</ul>"
   ]
  },
  {
   "cell_type": "markdown",
   "metadata": {},
   "source": [
    "<img src=\"http://www.clipular.com/c/6421260927238144.png?k=sDJTf0RwX4aMscfcnvOUb_s647c\">"
   ]
  },
  {
   "cell_type": "markdown",
   "metadata": {},
   "source": [
    "<img src=\"http://www.clipular.com/c/6592091372388352.png?k=TBoK2Pcb0CL71Lh0uijsfTIAkro\">"
   ]
  },
  {
   "cell_type": "markdown",
   "metadata": {},
   "source": [
    "<img src=\"http://www.clipular.com/c/6284414008164352.png?k=pZaObr23V2pJu9hGHSTa6bhYmaM\">"
   ]
  },
  {
   "cell_type": "markdown",
   "metadata": {},
   "source": [
    "<h2><span style=\"color: #993300;\">Implementation</span></h2>"
   ]
  },
  {
   "cell_type": "markdown",
   "metadata": {},
   "source": [
    "<h3> MK_SR_all</h3>\n",
    "<ul>\n",
    "<li> Open a file that includes winning numbers with CSV file type</li>\n",
    "<li> convert comma-seperated file to a space-sperated file by using csv.reader()</li>\n",
    "<li> convert string type value into integer type value by using map(int, list) </li>\n",
    "<li> Add the converted integer list to the series SR_all item </li>\n",
    "<li> Use the game round number as a index of Series SR_all </li>\n",
    "<li> The first line of csv file is the latest game(the largest roung number)\n",
    "</ul>"
   ]
  },
  {
   "cell_type": "code",
   "execution_count": 11,
   "metadata": {},
   "outputs": [
    {
     "name": "stdout",
     "output_type": "stream",
     "text": [
      "the Size of Series SR_all :  826\n",
      "[13, 16, 24, 25, 33, 36]\n",
      "[8, 15, 21, 31, 33, 38]\n",
      "[7, 9, 24, 29, 34, 38]\n",
      "[12, 18, 24, 26, 39, 40]\n",
      "[9, 18, 20, 24, 27, 36]\n",
      "[1, 12, 13, 24, 29, 44]\n",
      "[10, 21, 22, 30, 35, 42]\n",
      "[16, 25, 33, 38, 40, 45]\n",
      "[14, 15, 25, 28, 29, 30]\n",
      "[3, 9, 12, 13, 25, 43]\n"
     ]
    }
   ],
   "source": [
    "import csv\n",
    "from pandas import Series, DataFrame\n",
    "\n",
    "def MK_SR_all():\n",
    "    SR_all = Series([]) # Series of All Winning Numbers. Each item of Series is a list\n",
    "    \n",
    "    # MAKE SR_all \n",
    "    with open('lt.csv', 'rb') as csvfile:\n",
    "        NLINES = len(csvfile.readlines()) # get a number of lines to use the index of Series SR_all\n",
    "        csvfile.seek(0,0) # reset file read position\n",
    "        rfile = csv.reader(csvfile, delimiter=',') # csv file -> space separated file\n",
    "        i = 0\n",
    "        for rline in rfile:\n",
    "            SR_all[NLINES-i] = map(int, rline) # string value -> integer value. assign from the last index to the first index\n",
    "            i += 1\n",
    "    return SR_all\n",
    "\n",
    "SR_all = MK_SR_all()\n",
    "print 'the Size of Series SR_all : ', len(SR_all)\n",
    "for i in range(len(SR_all),len(SR_all)-10, -1):  # print the SR_all[1:11] \n",
    "    print SR_all[i]\n",
    "    \n"
   ]
  },
  {
   "cell_type": "markdown",
   "metadata": {},
   "source": [
    "<h3> MK_SR_gap</h3>\n",
    "<img src=\"http://www.clipular.com/c/6731653381881856.png?k=DTq6hh9SnvuZ2hpzAf_IHnWRH54\">"
   ]
  },
  {
   "cell_type": "code",
   "execution_count": 2,
   "metadata": {},
   "outputs": [
    {
     "name": "stdout",
     "output_type": "stream",
     "text": [
      "The size of SR_gap 826\n",
      "30 33 20 28 26 28 38 31 37 35 \n",
      ">40\t\t\t101 \n",
      "30 < gap < 40\t\t391 \n",
      "20 < gap < 30\t\t243 \n",
      "10 < gap < 20\t\t91 \n",
      "0 < gap < 10\t\t0\n"
     ]
    }
   ],
   "source": [
    "# Make SR_gap \n",
    "def MK_SR_gap(SR_all):\n",
    "    SR_gap = Series([])\n",
    "    for i,v in SR_all.iteritems():\n",
    "        SR_gap[i] = max(v) - min(v)\n",
    "    return SR_gap\n",
    "\n",
    "\n",
    "SR_gap = MK_SR_gap(SR_all)\n",
    "print 'The size of SR_gap', len(SR_gap)\n",
    "for i in range(1,11):\n",
    "    print SR_gap[i],\n",
    "print ''\n",
    "\n",
    "\n",
    "over = [0,0,0,0,0]\n",
    "for i in SR_gap:\n",
    "        if SR_gap[i] > 40:\n",
    "            over[0] += 1\n",
    "        elif SR_gap[i] > 30:  # 30 < gap < 40\n",
    "            over[1] += 1\n",
    "        elif SR_gap[i]  > 20: # 20 < gap < 30\n",
    "            over[2] += 1\n",
    "        elif SR_gap[i]  > 10: # 10 < gap < 20\n",
    "            over[3] += 1\n",
    "        elif SR_gap[i]  > 0: # 0 < gap 10\n",
    "            over[4] += 1\n",
    "print '>40\\t\\t\\t', over[0], '\\n30 < gap < 40\\t\\t', over[1], '\\n20 < gap < 30\\t\\t', over[2], '\\n10 < gap < 20\\t\\t', over[3],'\\n0 < gap < 10\\t\\t', over[4]"
   ]
  },
  {
   "cell_type": "markdown",
   "metadata": {},
   "source": [
    "<h3> MK_SR_cnt</h3>\n",
    "\n",
    "<img src=\"http://www.clipular.com/c/4863992758796288.png?k=xbZkyRMqZJjZ97sAHm-aWuh6DEc\">"
   ]
  },
  {
   "cell_type": "code",
   "execution_count": 3,
   "metadata": {},
   "outputs": [
    {
     "name": "stdout",
     "output_type": "stream",
     "text": [
      "1     119\n",
      "2     108\n",
      "3     109\n",
      "4     112\n",
      "5     113\n",
      "6     105\n",
      "7     113\n",
      "8     114\n",
      "9      84\n",
      "10    118\n",
      "11    114\n",
      "12    119\n",
      "13    115\n",
      "14    116\n",
      "15    114\n",
      "16    103\n",
      "17    118\n",
      "18    116\n",
      "19    113\n",
      "20    122\n",
      "21    111\n",
      "22     89\n",
      "23     98\n",
      "24    113\n",
      "25    109\n",
      "26    110\n",
      "27    125\n",
      "28     97\n",
      "29    101\n",
      "30     98\n",
      "31    113\n",
      "32     94\n",
      "33    113\n",
      "34    131\n",
      "35    102\n",
      "36    111\n",
      "37    116\n",
      "38    105\n",
      "39    109\n",
      "40    122\n",
      "41    101\n",
      "42    104\n",
      "43    116\n",
      "44    108\n",
      "45    115\n",
      "dtype: int64\n",
      "1     10\n",
      "2     13\n",
      "3     14\n",
      "4      8\n",
      "5     11\n",
      "6     15\n",
      "7     14\n",
      "8     11\n",
      "9     12\n",
      "10    22\n",
      "11    14\n",
      "12    25\n",
      "13    14\n",
      "14    12\n",
      "15    16\n",
      "16    14\n",
      "17    14\n",
      "18    17\n",
      "19    16\n",
      "20     6\n",
      "21    23\n",
      "22     8\n",
      "23     8\n",
      "24    18\n",
      "25    10\n",
      "26    11\n",
      "27    14\n",
      "28    12\n",
      "29    10\n",
      "30    12\n",
      "31    16\n",
      "32     9\n",
      "33    12\n",
      "34    19\n",
      "35    10\n",
      "36    16\n",
      "37     9\n",
      "38    14\n",
      "39    10\n",
      "40     8\n",
      "41    15\n",
      "42    17\n",
      "43    15\n",
      "44     8\n",
      "45    18\n",
      "dtype: int64\n"
     ]
    }
   ],
   "source": [
    "# MAKE SR_cnt and SR_Ncnt\n",
    "def MK_SR_cnt(SR_all):\n",
    "    #NLINES = len(SR_all)\n",
    "    NLINES = SR_all.count()\n",
    "    Nweeks = 100\n",
    "#    Nweeks = 798\n",
    "\n",
    "    SR_cnt = Series(0, index=range(1,46))\n",
    "    SR_Ncnt = Series(0, index=range(1,46))\n",
    "    for i,v in SR_all.iteritems(): \n",
    "        for listitems in v:\n",
    "            if (i > NLINES - Nweeks): \n",
    "                SR_Ncnt[listitems] += 1\n",
    "            SR_cnt[listitems] += 1      \n",
    "    return SR_cnt, SR_Ncnt\n",
    "\n",
    "SR_cnt, SR_Ncnt = MK_SR_cnt(SR_all)\n",
    "print SR_cnt\n",
    "print SR_Ncnt"
   ]
  },
  {
   "cell_type": "markdown",
   "metadata": {},
   "source": [
    "<h3> Draw_SR_gap</h3>"
   ]
  },
  {
   "cell_type": "code",
   "execution_count": 4,
   "metadata": {
    "scrolled": true
   },
   "outputs": [
    {
     "data": {
      "image/png": "[encoded data removed]",
      "text/plain": [
       "<matplotlib.figure.Figure at 0x9753da0>"
      ]
     },
     "metadata": {},
     "output_type": "display_data"
    }
   ],
   "source": [
    "def Draw_SR_gap(SR_gap):\n",
    "    # Make Graph\n",
    "    from itertools import cycle, islice\n",
    "\n",
    "    import matplotlib.pyplot as plt\n",
    "    import matplotlib\n",
    "    %matplotlib inline\n",
    "\n",
    "    my_colors = list(islice(cycle(['orange', 'darkgrey', 'green', 'y', 'k']), None, len(SR_gap)))\n",
    "\n",
    "    fig = plt.figure()\n",
    "    plt.text(50, 47, 'Gap of Winning Numbers between Max and Min', horizontalalignment='center', fontsize=16)\n",
    "    SR_gap[:100].plot(kind='bar', figsize=(13.5,3),  color=my_colors)\n",
    "    plt.xlim(0,100)  # draw the latest 100 weeks gaps\n",
    "    plt.ylim((0,50))\n",
    "    plt.tight_layout()\n",
    "    plt.show()\n",
    "    fig.savefig('gap.png', dpi=fig.dpi)\n",
    "\n",
    "Draw_SR_gap(SR_gap)\n"
   ]
  },
  {
   "cell_type": "markdown",
   "metadata": {},
   "source": [
    "<h3> Draw_SR_cnt</h3>"
   ]
  },
  {
   "cell_type": "code",
   "execution_count": 5,
   "metadata": {},
   "outputs": [
    {
     "data": {
      "image/png": "[encoded data removed]",
      "text/plain": [
       "<matplotlib.figure.Figure at 0x869a518>"
      ]
     },
     "metadata": {},
     "output_type": "display_data"
    },
    {
     "data": {
      "image/png": "[encoded data removed]",
      "text/plain": [
       "<matplotlib.figure.Figure at 0xb056e10>"
      ]
     },
     "metadata": {},
     "output_type": "display_data"
    },
    {
     "data": {
      "image/png": "[encoded data removed]",
      "text/plain": [
       "<matplotlib.figure.Figure at 0xa3f3908>"
      ]
     },
     "metadata": {},
     "output_type": "display_data"
    }
   ],
   "source": [
    "# Make Graph\n",
    "def Draw_SR_cnt(SR_cnt, SR_Ncnt):\n",
    "    from itertools import cycle, islice\n",
    "\n",
    "    import matplotlib.pyplot as plt\n",
    "    import matplotlib\n",
    "    %matplotlib inline\n",
    "\n",
    "    my_colors = list(islice(cycle(['orange', 'darkgrey', 'green', 'y', 'k']), None, len(SR_gap)))\n",
    "\n",
    "    fig1 = plt.figure()\n",
    "    #plt.suptitle('Total Count of Outcomes(order by frequency)', fontsize=12)\n",
    "    plt.text(23,125,'Total count of outcomes(order by count)', horizontalalignment='center', fontsize=16)\n",
    "    SR_cnt.sort_values(ascending=False).plot(kind='bar', figsize=(13.5,3),  color=my_colors)\n",
    "    plt.xlim(0,46)\n",
    "    plt.ylim((70,130))\n",
    "    plt.tight_layout()\n",
    "    plt.show()\n",
    "    fig1.savefig('freq_orderby_freq.png',dpi=fig1.dpi)\n",
    "\n",
    "    my_colors = list(islice(cycle(['orange', 'darkgrey', 'green', 'y', 'k']), None, len(SR_gap)))\n",
    "\n",
    "    fig2 = plt.figure()\n",
    "    #plt.suptitle('Total count of Outcomes(order by number)', fontsize=14)\n",
    "    plt.text(23,125,'Total count of outcomes(order by number)', horizontalalignment='center', fontsize=16)\n",
    "    SR_cnt.plot(kind='bar', figsize=(13.5,3),  color=my_colors)\n",
    "    plt.xlim(0,46)\n",
    "    plt.ylim((70,130))\n",
    "    plt.tight_layout()\n",
    "    plt.show()\n",
    "    fig2.savefig('freq_1toN.png', dpi=fig2.dpi)\n",
    "\n",
    "    fig3 = plt.figure()\n",
    "    plt.text(23,30,'Total count of Outcomes in the latest N weeks(order by Count)', horizontalalignment='center', fontsize=16)\n",
    "    SR_Ncnt.sort_values(ascending=False).plot(kind='bar', figsize=(13.5,3),  color=my_colors)\n",
    "    plt.xlim(0,46)\n",
    "    plt.ylim((0,35))\n",
    "    plt.tight_layout()\n",
    "    plt.show()\n",
    "    fig3.savefig('freqN_orderby_freq.png',dpi=fig1.dpi)\n",
    "\n",
    "    \n",
    "    \n",
    "    \n",
    "Draw_SR_cnt(SR_cnt, SR_Ncnt)\n"
   ]
  },
  {
   "cell_type": "markdown",
   "metadata": {},
   "source": [
    "<h3>Generate Recommended Random Numbers </h3>\n",
    "<img src=\"http://www.clipular.com/c/5728872135131136.png?k=TvQwV7xbSl5u6rDDp9fp2AvuOGI\">"
   ]
  },
  {
   "cell_type": "code",
   "execution_count": 6,
   "metadata": {},
   "outputs": [
    {
     "name": "stdout",
     "output_type": "stream",
     "text": [
      "Recommended List RC1-1 (Most Selected Top 6 Numbers) [1, 10, 12, 20, 27, 34, 40]\n",
      "Recommended List RC1-2 (Most Selected Top 6 Numbers in the last N weeks) [10, 12, 18, 21, 24, 34, 45]\n"
     ]
    }
   ],
   "source": [
    "def Gen_RC1(SR_cnt, SR_Ncnt):\n",
    "    top6 = SR_cnt.sort_values(ascending=False)[:7].index.tolist()\n",
    "    top6N = SR_Ncnt.sort_values(ascending=False)[:7].index.tolist()\n",
    "    return sorted(top6), sorted(top6N)\n",
    "\n",
    "top6, top6N = Gen_RC1(SR_cnt, SR_Ncnt)   \n",
    "print 'Recommended List RC1-1 (Most Selected Top 6 Numbers)', top6\n",
    "print 'Recommended List RC1-2 (Most Selected Top 6 Numbers in the last N weeks)', top6N"
   ]
  },
  {
   "cell_type": "code",
   "execution_count": 12,
   "metadata": {
    "scrolled": false
   },
   "outputs": [
    {
     "name": "stdout",
     "output_type": "stream",
     "text": [
      "Candidates Numbers 26\n",
      "Candidates List [1, 4, 5, 7, 8, 10, 11, 12, 13, 14, 15, 17, 18, 19, 20, 21, 24, 27, 31, 33, 34, 36, 37, 40, 43, 45]\n",
      "평균빈도수보다 많이 나온 숫자들 중 추천\n",
      "[4, 5, 13, 15, 17, 21]\n",
      "[7, 10, 17, 33, 37, 45]\n",
      "[7, 17, 24, 37, 40, 45]\n",
      "[4, 7, 17, 24, 33, 45]\n",
      "[8, 14, 31, 34, 40, 45]\n",
      "4 5 7 8 10 13 14 15 17 21 24 31 33 34 37 40 45 \n"
     ]
    }
   ],
   "source": [
    "def Gen_RC2(SR_cnt):\n",
    "    import random\n",
    "    RC2 = []\n",
    "    rlist = []\n",
    "    cond_val = SR_cnt.mean(0)\n",
    "    #for i, v in SR_cnt.iteritems():\n",
    "    #    if v > cond_val:\n",
    "    #        rlist.append(i)\n",
    "    rlist = SR_cnt[SR_cnt > cond_val].index.tolist()\n",
    "    print 'Candidates Numbers', len(rlist)\n",
    "    print 'Candidates List', rlist\n",
    "    for i in range(5):\n",
    "        rclist = random.sample(rlist, 6)\n",
    "        for v in rclist:\n",
    "            selected.add(v)\n",
    "        RC2.append(sorted(rclist))\n",
    "    return RC2\n",
    "\n",
    "selected = set() \n",
    "RC2 = Gen_RC2(SR_cnt)\n",
    "print \"평균빈도수보다 많이 나온 숫자들 중 추천\"\n",
    "for i in range(len(RC2)):\n",
    "    print RC2[i]\n",
    "for v in sorted(selected):\n",
    "    print v,\n",
    "print ''"
   ]
  },
  {
   "cell_type": "code",
   "execution_count": 13,
   "metadata": {},
   "outputs": [
    {
     "name": "stdout",
     "output_type": "stream",
     "text": [
      "Candidates Numbers 19\n",
      "Candidates List [2, 3, 6, 9, 16, 22, 23, 25, 26, 28, 29, 30, 32, 35, 38, 39, 41, 42, 44]\n",
      "평균빈도수보다 적게 나온 숫자들 중 추천\n",
      "[9, 26, 35, 39, 42, 44]\n",
      "[2, 6, 26, 29, 30, 32]\n",
      "[9, 23, 26, 38, 42, 44]\n",
      "[23, 25, 26, 28, 29, 41]\n",
      "[6, 23, 32, 35, 38, 41]\n",
      "2 4 5 6 7 8 9 10 13 14 15 17 21 23 24 25 26 28 29 30 31 32 33 34 35 37 38 39 40 41 42 44 45 \n"
     ]
    }
   ],
   "source": [
    "def Gen_RC3(SR_cnt, selected):\n",
    "    import random\n",
    "    RC3 = []\n",
    "    rlist = []\n",
    "    cond_val = SR_cnt.mean(0)\n",
    "    #for i, v in SR_cnt.iteritems():\n",
    "    #    if v < cond_val:\n",
    "    #        rlist.append(i)\n",
    "    rlist = SR_cnt[SR_cnt < cond_val].index.tolist()\n",
    "    print 'Candidates Numbers', len(rlist)\n",
    "    print 'Candidates List', rlist\n",
    "    for i in range(5):\n",
    "        rclist = random.sample(rlist, 6)\n",
    "        for v in rclist:\n",
    "            selected.add(v)\n",
    "        RC3.append(sorted(rclist))\n",
    "    return RC3\n",
    "\n",
    "RC3 = Gen_RC3(SR_cnt, selected)\n",
    "print \"평균빈도수보다 적게 나온 숫자들 중 추천\"\n",
    "for i in range(len(RC3)):\n",
    "    print RC3[i]\n",
    "for v in selected:\n",
    "    print v,\n",
    "print ''"
   ]
  },
  {
   "cell_type": "code",
   "execution_count": 14,
   "metadata": {
    "scrolled": true
   },
   "outputs": [
    {
     "name": "stdout",
     "output_type": "stream",
     "text": [
      "2 4 5 6 7 8 9 10 13 14 15 17 21 23 24 25 26 28 29 30 31 32 33 34 35 37 38 39 40 41 42 44 45 \n",
      "rlist [1, 3, 36, 11, 12, 16, 43, 18, 19, 20, 22, 27]\n",
      "[1, 12, 16, 20, 27, 36]\n",
      "[1, 3, 12, 18, 22, 36]\n",
      "[1, 11, 16, 19, 20, 43]\n",
      "[1, 3, 18, 27, 36, 43]\n",
      "[1, 12, 16, 18, 20, 43]\n"
     ]
    }
   ],
   "source": [
    "def Gen_RC4():\n",
    "    import random\n",
    "    RC4 = []\n",
    "    rlist = []\n",
    "    a = set(range(1,46))\n",
    "    rlist = list(a - selected)\n",
    "    print 'rlist', rlist\n",
    "    \n",
    "    for i in range(5):\n",
    "        rclist = random.sample(rlist, 6)\n",
    "        RC4.append(sorted(rclist))\n",
    "    return RC4\n",
    "\n",
    "for v in selected:\n",
    "    print v,\n",
    "print ''\n",
    "\n",
    "RC4 = Gen_RC4()\n",
    "for i in range(len(RC4)):\n",
    "    print RC4[i]"
   ]
  },
  {
   "cell_type": "markdown",
   "metadata": {},
   "source": [
    "<h2><span style=\"color: #993300;\">Python Class Project Report #2</span></h2>"
   ]
  },
  {
   "cell_type": "markdown",
   "metadata": {},
   "source": [
    "## [1] Make RC5 Function\n",
    "\n",
    "<blockquote><span class=\"parent-word\" style=\"color: #0000ff;\" data-transform-scale-x=\"0.8498908284270901\" data-canvas-width=\"600.89315\">such that&nbsp;</span>\n",
    "<ul>\n",
    "<li class=\"parent-word\" data-transform-scale-x=\"0.8498908284270901\" data-canvas-width=\"600.89315\">Design and create your own algorithm for generating the recommed numbers</li>\n",
    "<li class=\"parent-word\" data-transform-scale-x=\"0.8498908284270901\" data-canvas-width=\"600.89315\">Show your data strucutre ( using the draw.io)</li>\n",
    "<li class=\"parent-word\" data-transform-scale-x=\"0.8498908284270901\" data-canvas-width=\"600.89315\">Show your functional diagram</li>\n",
    "</ul>\n",
    "<p>&nbsp;</p>\n",
    "</blockquote>"
   ]
  },
  {
   "cell_type": "markdown",
   "metadata": {},
   "source": [
    "## [2] Make CMP_to_winlist\n",
    "\n",
    "<blockquote><span class=\"parent-word\" style=\"color: #0000ff;\" data-transform-scale-x=\"0.8498908284270901\" data-canvas-width=\"600.89315\">such that&nbsp;</span>\n",
    "<ul>\n",
    "<li class=\"parent-word\" data-transform-scale-x=\"0.8498908284270901\" data-canvas-width=\"600.89315\">compare your recommended list to previous winning number list</li>\n",
    "<li class=\"parent-word\" data-transform-scale-x=\"0.8498908284270901\" data-canvas-width=\"600.89315\">find the most matched list (In best case, 6 numbers matche)</li>\n",
    "<li class=\"parent-word\" data-transform-scale-x=\"0.8498908284270901\" data-canvas-width=\"600.89315\">find the count of the least matched list ( total count of 0 match)</li>\n",
    "</ul>\n",
    "<p>&nbsp;</p>\n",
    "<p>&nbsp;</p>\n",
    "</blockquote>"
   ]
  }
 ],
 "metadata": {
  "kernelspec": {
   "display_name": "Python 2",
   "language": "python",
   "name": "python2"
  },
  "language_info": {
   "codemirror_mode": {
    "name": "ipython",
    "version": 2
   },
   "file_extension": ".py",
   "mimetype": "text/x-python",
   "name": "python",
   "nbconvert_exporter": "python",
   "pygments_lexer": "ipython2",
   "version": "2.7.13"
  }
 },
 "nbformat": 4,
 "nbformat_minor": 1
}
