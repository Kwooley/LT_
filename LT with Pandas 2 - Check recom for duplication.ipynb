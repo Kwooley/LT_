{
 "cells": [
  {
   "cell_type": "code",
   "execution_count": null,
   "metadata": {},
   "outputs": [],
   "source": [
    "from pandas import Series, DataFrame\n",
    "import csv\n",
    "\n",
    "SR_matchcnt = Series(0, index=range(1,6))\n",
    "\n",
    "ltcsv  = open('lt.csv', 'rb')\n",
    "ltlist = list(csv.reader(ltcsv, delimiter=','))   # Make a list for the nested for loop. CSV.reader cannot be used inner loop.\n",
    "reccsv = open('rec.csv', 'rb')\n",
    "recfile = csv.reader(reccsv, delimiter=',')\n",
    "\n",
    "recalllines = reccsv.readlines()\n",
    "NRECLINES = len(recalllines)\n",
    "reccsv.seek(0,0)\n",
    "\n",
    "df_match = DataFrame(0, index=range(1,NRECLINES+1), columns=[0,1,2,3,4,5,6])\n",
    "\n",
    "maxmatch = rowcnt = maxround = 0\n",
    "for recline in recfile:\n",
    "    rowcnt += 1\n",
    "    setR = set(recline)\n",
    "    for ltline in ltlist:\n",
    "        nmatch = len(setR & set(ltline))\n",
    "        if maxmatch < nmatch:\n",
    "            maxmatch = nmatch\n",
    "            maxround = rowcnt\n",
    "                \n",
    "        df_match[nmatch].ix[rowcnt] += 1\n",
    "\n",
    "print 'Max Match : ', maxmatch, maxround, recalllines[maxround-1]\n"
   ]
  },
  {
   "cell_type": "code",
   "execution_count": null,
   "metadata": {},
   "outputs": [],
   "source": [
    "df_match"
   ]
  },
  {
   "cell_type": "code",
   "execution_count": null,
   "metadata": {
    "scrolled": true
   },
   "outputs": [],
   "source": [
    "cnt = 0\n",
    "for i in df_match[4]:\n",
    "    if i > 0:\n",
    "        cnt += 1\n",
    "print cnt"
   ]
  }
 ],
 "metadata": {
  "kernelspec": {
   "display_name": "Python 2",
   "language": "python",
   "name": "python2"
  },
  "language_info": {
   "codemirror_mode": {
    "name": "ipython",
    "version": 2
   },
   "file_extension": ".py",
   "mimetype": "text/x-python",
   "name": "python",
   "nbconvert_exporter": "python",
   "pygments_lexer": "ipython2",
   "version": "2.7.13"
  }
 },
 "nbformat": 4,
 "nbformat_minor": 1
}
