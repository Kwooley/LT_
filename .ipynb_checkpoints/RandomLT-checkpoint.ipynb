{
 "cells": [
  {
   "cell_type": "markdown",
   "metadata": {},
   "source": [
    "### <font size=4 color=\"0066FF\"> np.random.randinit()"
   ]
  },
  {
   "cell_type": "code",
   "execution_count": 2,
   "metadata": {
    "collapsed": false
   },
   "outputs": [
    {
     "name": "stdout",
     "output_type": "stream",
     "text": [
      "37\n",
      "15\n",
      "42\n",
      "38\n",
      "44\n",
      "43\n"
     ]
    }
   ],
   "source": [
    "import numpy as np\n",
    "for i in range(1,7):\n",
    "    print np.random.randint(1,45)\n"
   ]
  },
  {
   "cell_type": "markdown",
   "metadata": {},
   "source": [
    "### <font size=4 color=\"0066FF\"> np.sort(), np.random.choice() "
   ]
  },
  {
   "cell_type": "code",
   "execution_count": 3,
   "metadata": {
    "collapsed": false
   },
   "outputs": [
    {
     "name": "stdout",
     "output_type": "stream",
     "text": [
      "[ 1 17 21 25 27 29]\n",
      "\n",
      "[ 2  8 14 25 34 35]\n",
      "\n",
      "[ 1  2  4 16 35 37]\n",
      "\n",
      "[ 2 12 18 25 40 42]\n",
      "\n",
      "[ 5  6 16 17 20 45]\n",
      "\n",
      "[ 5  8 24 25 31 34]\n",
      "\n",
      "[19 24 30 32 34 38]\n",
      "\n",
      "[ 1 15 21 25 31 42]\n",
      "\n",
      "[ 7 15 18 30 32 37]\n",
      "\n",
      "[ 7 13 25 26 27 29]\n",
      "\n"
     ]
    }
   ],
   "source": [
    "ltlist = range(1,46)\n",
    "for i in range(10):\n",
    "    print np.sort(np.random.choice(ltlist, 6,replace=False))\n",
    "    print \"\""
   ]
  },
  {
   "cell_type": "markdown",
   "metadata": {},
   "source": [
    "### <font size=4 color=\"0066FF\"> Make CNTLIST from csvfile"
   ]
  },
  {
   "cell_type": "code",
   "execution_count": 3,
   "metadata": {
    "collapsed": false
   },
   "outputs": [],
   "source": [
    "import csv\n",
    "cntlist = [0] * 45\n",
    "with open('lt.csv', 'rb') as csvfile:\n",
    "    readedfile = csv.reader(csvfile, delimiter=',')\n",
    "    for rline in readedfile:\n",
    "        for i in range(0,6):\n",
    "            #print i, int(rline[i])-1, cntlist[int(rline[i])-1]\n",
    "            cntlist[int(rline[i])-1] += 1\n",
    "            "
   ]
  },
  {
   "cell_type": "code",
   "execution_count": 17,
   "metadata": {
    "collapsed": false,
    "scrolled": false
   },
   "outputs": [
    {
     "name": "stdout",
     "output_type": "stream",
     "text": [
      "701\n"
     ]
    }
   ],
   "source": [
    "with open('lt.csv', 'rb') as f:\n",
    "    content = f.readlines()\n",
    "print len(content)"
   ]
  },
  {
   "cell_type": "markdown",
   "metadata": {},
   "source": [
    "### <font size=4 color=\"0066FF\"> dict(enumerate (cntlist))"
   ]
  },
  {
   "cell_type": "code",
   "execution_count": 26,
   "metadata": {
    "collapsed": false,
    "scrolled": true
   },
   "outputs": [
    {
     "name": "stdout",
     "output_type": "stream",
     "text": [
      "{0: 103, 1: 88, 2: 92, 3: 99, 4: 101, 5: 86, 6: 96, 7: 100, 8: 71, 9: 92, 10: 96, 11: 91, 12: 98, 13: 103, 14: 96, 15: 86, 16: 102, 17: 97, 18: 91, 19: 112, 20: 85, 21: 79, 22: 86, 23: 91, 24: 97, 25: 98, 26: 110, 27: 80, 28: 88, 29: 80, 30: 95, 31: 83, 32: 93, 33: 109, 34: 88, 35: 92, 36: 103, 37: 91, 38: 95, 39: 113, 40: 81, 41: 86, 42: 97, 43: 93, 44: 93}\n"
     ]
    }
   ],
   "source": [
    "import operator\n",
    "\n",
    "\n",
    "freq_dict = dict(enumerate(cntlist))\n",
    "print freq_dict\n",
    "# print ordered by key of freq_dict\n",
    "for k in sorted(freq_dict):\n",
    "    #print k+1, freq_dict[k]\n",
    "    continue\n",
    "\n",
    "sortedlist_by_values = sorted(freq_dict.items(),  key=operator.itemgetter(1), reverse=True)\n",
    "#sortedlist_by_values\n"
   ]
  },
  {
   "cell_type": "code",
   "execution_count": 27,
   "metadata": {
    "collapsed": false
   },
   "outputs": [],
   "source": [
    "# print ordered by value of freq_dict\n",
    "freq_list_by_value = sorted(freq_dict.items(), key=operator.itemgetter(1), reverse=True)\n",
    "# freq_list_by_value is a list of tuple. Becasue the 'sorted' returns a list.\n",
    "# dict(freq_list_by_value) make it a dict back.\n",
    "\n",
    "#for k, v in freq_list_by_value:\n",
    "#    print k+1,':', v\n",
    "    "
   ]
  },
  {
   "cell_type": "code",
   "execution_count": 28,
   "metadata": {
    "collapsed": false
   },
   "outputs": [],
   "source": [
    "#for key, value in enumerate(cntlist):\n",
    "#    print key+1, value"
   ]
  },
  {
   "cell_type": "markdown",
   "metadata": {},
   "source": [
    "###  Make a dictionary from a cntlist. \n",
    "Make a dict from a value of cntlist directly. <br> \n",
    "        <pre> freq[i+1] = cntlist[i] </pre>\n"
   ]
  },
  {
   "cell_type": "code",
   "execution_count": 16,
   "metadata": {
    "collapsed": false
   },
   "outputs": [
    {
     "name": "stdout",
     "output_type": "stream",
     "text": [
      "[(40, 113), (20, 112), (27, 110), (34, 109), (1, 103), (14, 103), (37, 103), (17, 102), (5, 101), (8, 100), (4, 99), (13, 98), (26, 98), (18, 97), (25, 97), (43, 97), (7, 96), (11, 96), (15, 96), (31, 95), (39, 95), (33, 93), (44, 93), (45, 93), (3, 92), (10, 92), (36, 92), (12, 91), (19, 91), (24, 91), (38, 91), (2, 88), (29, 88), (35, 88), (6, 86), (16, 86), (23, 86), (42, 86), (21, 85), (32, 83), (41, 81), (28, 80), (30, 80), (22, 79), (9, 71)]\n"
     ]
    }
   ],
   "source": [
    "from operator import itemgetter\n",
    "freq = {}\n",
    "for i in range(len(cntlist)):\n",
    "    freq[i+1] = cntlist[i]\n",
    "\n",
    "sortedfreq =  sorted(freq.items(), key=itemgetter(1), reverse=True)\n",
    "# sortedfreq is a LIST\n",
    "print sortedfreq"
   ]
  },
  {
   "cell_type": "markdown",
   "metadata": {},
   "source": [
    "###  compare recom to intlist from the csvfile line.  X\n",
    "convert the each string item into integer usging by int(). e.g, <br> \n",
    "        <pre> intlist[i] = int(rline[i]) </pre>\n",
    "It is not a efficient way."
   ]
  },
  {
   "cell_type": "code",
   "execution_count": 5,
   "metadata": {
    "collapsed": false,
    "scrolled": true
   },
   "outputs": [
    {
     "name": "stdout",
     "output_type": "stream",
     "text": [
      "[4, 17, 24, 35, 36, 41]\n"
     ]
    }
   ],
   "source": [
    "import csv\n",
    "import numpy as np\n",
    "\n",
    "intlist = [0] * 6\n",
    "ltlist = range(1,46)\n",
    "recomlist = [0] * 6\n",
    "\n",
    "\n",
    "recomlist= list(np.sort(np.random.choice(ltlist, 6,replace=False)))\n",
    "print recomlist\n",
    "\n",
    "with open('lt.csv', 'rb') as csvfile:\n",
    "    readedfile = csv.reader(csvfile, delimiter=',')\n",
    "    for rline in readedfile:\n",
    "        for i in range(0,6):\n",
    "            intlist[i] = int(rline[i])\n",
    "        #print recomlist, intlist\n",
    "        if recomlist == intlist:\n",
    "            print recomlist, intlist"
   ]
  },
  {
   "cell_type": "markdown",
   "metadata": {},
   "source": [
    "### <font size=5 color=\"0066FF\"> Using random.sample()\n",
    "<pre> rclist = random.sample(set(olist), 6) </pre>"
   ]
  },
  {
   "cell_type": "code",
   "execution_count": 15,
   "metadata": {
    "collapsed": false,
    "scrolled": false
   },
   "outputs": [
    {
     "name": "stdout",
     "output_type": "stream",
     "text": [
      "Recommended List :  [2, 9, 17, 22, 28, 43]\n",
      "\n",
      "Recommended List :  [1, 7, 8, 20, 22, 25]\n",
      "\n",
      "Recommended List :  [2, 11, 37, 38, 39, 41]\n",
      "\n",
      "Recommended List :  [10, 16, 22, 34, 42, 45]\n",
      "\n",
      "Recommended List :  [4, 11, 20, 22, 30, 32]\n",
      "\n",
      "Recommended List :  [5, 13, 14, 25, 37, 44]\n",
      "\n",
      "Recommended List :  [16, 18, 19, 24, 30, 36]\n",
      "\n",
      "Recommended List :  [3, 5, 34, 35, 43, 44]\n",
      "\n",
      "Recommended List :  [8, 21, 23, 29, 35, 43]\n",
      "\n",
      "Recommended List :  [23, 28, 32, 33, 39, 44]\n",
      "\n"
     ]
    }
   ],
   "source": [
    "import csv\n",
    "import numpy as np\n",
    "import random\n",
    "\n",
    "def check(rclist):\n",
    "    with open('lt.csv', 'rb') as csvfile:\n",
    "        rfile = csv.reader(csvfile, delimiter=',')\n",
    "        for rline in rfile:  # rline is a ALREADY list. not string\n",
    "            rlist = map(int, rline)\n",
    "            #if type(rclist) == type(rlist):\n",
    "                #print 'mateched type'\n",
    "            if rclist == rlist:\n",
    "                print 'matched list', rlist\n",
    "                return 1\n",
    "    return 0\n",
    "\n",
    "for i in range(10):\n",
    "    olist = range(1,46)\n",
    "    #rclist = list(np.random.choice(olist, 6, replace=\"False\"))\n",
    "    rclist = random.sample(set(olist), 6)\n",
    "    sortedlist = sorted(rclist)\n",
    "    print 'Recommended List : ', sortedlist\n",
    "    print \"\"\n",
    "    if check(sortedlist):\n",
    "        print 'duplicated', rclist"
   ]
  },
  {
   "cell_type": "code",
   "execution_count": 10,
   "metadata": {
    "collapsed": false,
    "scrolled": true
   },
   "outputs": [
    {
     "name": "stdout",
     "output_type": "stream",
     "text": [
      "[5, 8, 10, 22, 30, 39] [10, 23, 29, 33, 37, 40]\n"
     ]
    }
   ],
   "source": [
    "print recomlist, intlist"
   ]
  },
  {
   "cell_type": "markdown",
   "metadata": {},
   "source": [
    "### <font size=5 color=\"0066FF\"> Using random.choice()\n",
    "<pre> rclist = list(np.random.choice(olist, 6, replace=False)) </pre>"
   ]
  },
  {
   "cell_type": "code",
   "execution_count": 29,
   "metadata": {
    "collapsed": false
   },
   "outputs": [
    {
     "name": "stdout",
     "output_type": "stream",
     "text": [
      "Recommended List :  [5, 8, 15, 17, 23, 38]\n",
      "\n",
      "Recommended List :  [3, 16, 24, 29, 38, 44]\n",
      "\n",
      "Recommended List :  [11, 14, 19, 28, 32, 36]\n",
      "\n",
      "Recommended List :  [14, 24, 32, 35, 36, 45]\n",
      "\n",
      "Recommended List :  [3, 6, 7, 18, 23, 38]\n",
      "\n",
      "Recommended List :  [9, 18, 20, 28, 34, 43]\n",
      "\n",
      "Recommended List :  [21, 23, 29, 36, 38, 44]\n",
      "\n",
      "Recommended List :  [4, 15, 16, 20, 40, 45]\n",
      "\n",
      "Recommended List :  [9, 16, 17, 24, 25, 34]\n",
      "\n",
      "Recommended List :  [1, 15, 16, 17, 23, 31]\n",
      "\n"
     ]
    }
   ],
   "source": [
    "import csv\n",
    "import numpy as np\n",
    "import random\n",
    "\n",
    "def check(rclist):\n",
    "    with open('lt.csv', 'rb') as csvfile:\n",
    "        rfile = csv.reader(csvfile, delimiter=',')\n",
    "        for rline in rfile:  # rline is a ALREADY list. not string\n",
    "            rlist = map(int, rline)\n",
    "            #if type(rclist) == type(rlist):\n",
    "                #print 'mateched type'\n",
    "            if rclist == rlist:\n",
    "                print 'matched list', rlist\n",
    "                return 1\n",
    "    return 0\n",
    "\n",
    "for i in range(10):\n",
    "    olist = range(1,46)\n",
    "    rclist = list(np.random.choice(olist, 6, replace=False))\n",
    "    #rclist = random.sample(set(olist), 6)\n",
    "    sortedlist = sorted(rclist)\n",
    "    print 'Recommended List : ', sortedlist\n",
    "    print \"\"\n",
    "    if check(sortedlist):\n",
    "        print 'duplicated', rclist"
   ]
  },
  {
   "cell_type": "markdown",
   "metadata": {},
   "source": [
    "### <font size=5 color=\"0066FF\"> Top 6 Most Used Numbers in recent N weeks\n",
    "\n",
    "<font size=3 color=\"0066FF\"> Make DF\n",
    "<pre> df = Seires(ncntlist) </pre>\n"
   ]
  },
  {
   "cell_type": "code",
   "execution_count": 2,
   "metadata": {
    "collapsed": false
   },
   "outputs": [
    {
     "name": "stdout",
     "output_type": "stream",
     "text": [
      "( 11 , 10 ) ( 15 , 10 ) ( 38 , 10 ) ( 33 , 9 ) ( 7 , 9 ) ( 8 , 8 )\n"
     ]
    }
   ],
   "source": [
    "import csv\n",
    "from pandas import Series\n",
    "\n",
    "ncntlist = [0] * 46\n",
    "NWEEKS = 40\n",
    "n = 0\n",
    "\n",
    "with open('lt.csv', 'rb') as csvfile:\n",
    "    readfile = csv.reader(csvfile, delimiter=',')\n",
    "    for rline in readfile:\n",
    "        if n >= NWEEKS :\n",
    "            break\n",
    "        n += 1\n",
    "        for i in range(6):\n",
    "            ncntlist[int(rline[i])] += 1\n",
    "\n",
    "df = Series(ncntlist)\n",
    "#df.sort_values(ascending=False)\n",
    "i =0\n",
    "for x,y in df.sort_values(ascending=False).iteritems():\n",
    "    if i > 5: break                  # 6 numbers\n",
    "    print '(', x,',', y, ')',\n",
    "    i += 1"
   ]
  },
  {
   "cell_type": "markdown",
   "metadata": {},
   "source": [
    "### <font size=5 color=\"0066FF\"> Never Used Numbers in recent N weeks"
   ]
  },
  {
   "cell_type": "code",
   "execution_count": 78,
   "metadata": {
    "collapsed": false,
    "scrolled": true
   },
   "outputs": [],
   "source": [
    "for i in range(46):\n",
    "    if df[i] == 0 and i != 0:\n",
    "        print i,"
   ]
  },
  {
   "cell_type": "markdown",
   "metadata": {},
   "source": [
    "### <font size=5 color=\"0066FF\"> Frequency of Used Numbers in recent N weeks"
   ]
  },
  {
   "cell_type": "code",
   "execution_count": 4,
   "metadata": {
    "collapsed": false
   },
   "outputs": [
    {
     "data": {
      "image/png": "[encoded data removed]",
      "text/plain": [
       "<matplotlib.figure.Figure at 0x7f492f0253d0>"
      ]
     },
     "metadata": {},
     "output_type": "display_data"
    },
    {
     "data": {
      "image/png": "[encoded data removed]",
      "text/plain": [
       "<matplotlib.figure.Figure at 0x7f492a87f8d0>"
      ]
     },
     "metadata": {},
     "output_type": "display_data"
    }
   ],
   "source": [
    "from itertools import cycle, islice\n",
    "\n",
    "import matplotlib.pyplot as plt\n",
    "import matplotlib\n",
    "%matplotlib inline\n",
    "\n",
    "my_colors = list(islice(cycle(['orange', 'darkgrey', 'green', 'y', 'k']), None, len(df)))\n",
    "\n",
    "df.plot(kind='bar', figsize=(15,4),  color=my_colors)\n",
    "plt.xlim(0,46)\n",
    "plt.ylim((0,15))\n",
    "plt.show()\n",
    "\n",
    "###########\n",
    "# sort by values\n",
    "###########\n",
    "df.sort_values(ascending=False).plot(kind='bar', figsize=(15,4),  color=my_colors)\n",
    "plt.xlim(0,46)\n",
    "plt.ylim((0,15))\n",
    "plt.show()"
   ]
  },
  {
   "cell_type": "markdown",
   "metadata": {},
   "source": [
    "### <font size=5 color=\"0066FF\"> Random Number within the Certain Period"
   ]
  },
  {
   "cell_type": "code",
   "execution_count": 50,
   "metadata": {
    "collapsed": false
   },
   "outputs": [
    {
     "name": "stdout",
     "output_type": "stream",
     "text": [
      "[6, 10, 12, 26, 35, 39] 6 7 5 4 4 4 \n",
      "[1, 5, 10, 24, 28, 34] 6 7 7 6 7 7 \n",
      "[5, 21, 29, 35, 39, 45] 7 4 7 4 4 4 \n",
      "[3, 20, 29, 34, 39, 44] 6 4 7 7 4 6 \n",
      "[1, 4, 5, 27, 35, 45] 6 5 7 7 4 4 \n",
      "[3, 16, 18, 27, 35, 43] 6 4 4 7 4 6 \n",
      "[3, 14, 16, 21, 29, 36] 6 5 4 4 7 6 \n",
      "[3, 6, 28, 34, 36, 42] 6 6 7 7 6 5 \n",
      "[13, 21, 34, 42, 44, 45] 5 4 7 5 6 4 \n",
      "[3, 6, 13, 28, 39, 45] 6 6 5 7 4 4 \n"
     ]
    }
   ],
   "source": [
    "import random\n",
    "\n",
    "FMIN = 3\n",
    "FMAX = 8\n",
    "\n",
    "df2 = df.sort_values(ascending=False)\n",
    "dfsubset = Series([])   # Empty Series for the subset of df2\n",
    "\n",
    "for i,v in df2.iteritems():\n",
    "    if  FMIN < df[i] < FMAX:\n",
    "        dfsubset[i] = v\n",
    "#print dfsubset\n",
    "\n",
    "for i in range(10):\n",
    "    ridx = sorted(random.sample(dfsubset.index, 6))\n",
    "    print ridx, \n",
    "    for k in ridx: print df[k],\n",
    "    print \"\" \n",
    "    "
   ]
  },
  {
   "cell_type": "markdown",
   "metadata": {},
   "source": [
    "### <font size=2 color=\"0066FF\"> 최근 40주 동안 CVAL 번 이상 나타난 숫자중에 최근 NWEEKS 주 동안 나타나지 않은 수"
   ]
  },
  {
   "cell_type": "code",
   "execution_count": 5,
   "metadata": {
    "collapsed": false,
    "scrolled": true
   },
   "outputs": [
    {
     "name": "stdout",
     "output_type": "stream",
     "text": [
      "CVAL번 이상 나타난 숫자 [1, 2, 3, 4, 5, 6, 7, 8, 9, 10, 11, 12, 13, 14, 15, 16, 17, 18, 19, 20, 21, 22, 23, 24, 25, 26, 27, 28, 29, 30, 31, 32, 33, 34, 35, 36, 37, 38, 39, 40, 41, 42, 43, 44, 45]\n",
      "[0, 1, 1, 1, 1, 1, 1, 1, 1, 0, 1, 1, 1, 1, 1, 1, 1, 1, 1, 1, 1, 1, 1, 1, 1, 1, 1, 1, 1, 1, 1, 0, 1, 1, 1, 1, 1, 1, 1, 1, 1, 0, 1, 1, 1, 1]\n",
      "최근 NWEEKS동안 안나온 수 [9, 31, 41]\n"
     ]
    }
   ],
   "source": [
    "import operator\n",
    "\n",
    "CVAL = 0  # Criteria\n",
    "idxlist = []     # list for a index of df that its values are over than CVAL\n",
    "noshow = [] \n",
    "show = [0] * 46\n",
    "NWEEKS = 20\n",
    "\n",
    "for i, v in df.iteritems():\n",
    "    if v > CVAL:\n",
    "        idxlist.append(i)\n",
    "        \n",
    "print 'CVAL번 이상 나타난 숫자', idxlist\n",
    "\n",
    "week = 0\n",
    "with open('lt.csv', 'rb') as csvfile:\n",
    "    rfile = csv.reader(csvfile, delimiter=',')\n",
    "    for rline in rfile:\n",
    "        if week > NWEEKS:\n",
    "            break\n",
    "        else:\n",
    "            week += 1\n",
    "            \n",
    "        intlist = map(int, rline)\n",
    "        for val in intlist:\n",
    "            show[val] = 1\n",
    "print show\n",
    "\n",
    "for idx in idxlist:\n",
    "    if show[idx] == 0:\n",
    "        noshow.append(idx)\n",
    "print '최근 NWEEKS동안 안나온 수', noshow\n",
    "\n"
   ]
  },
  {
   "cell_type": "code",
   "execution_count": null,
   "metadata": {
    "collapsed": true
   },
   "outputs": [],
   "source": []
  },
  {
   "cell_type": "code",
   "execution_count": null,
   "metadata": {
    "collapsed": true
   },
   "outputs": [],
   "source": []
  }
 ],
 "metadata": {
  "kernelspec": {
   "display_name": "Python 2",
   "language": "python",
   "name": "python2"
  },
  "language_info": {
   "codemirror_mode": {
    "name": "ipython",
    "version": 2
   },
   "file_extension": ".py",
   "mimetype": "text/x-python",
   "name": "python",
   "nbconvert_exporter": "python",
   "pygments_lexer": "ipython2",
   "version": "2.7.11"
  }
 },
 "nbformat": 4,
 "nbformat_minor": 0
}
