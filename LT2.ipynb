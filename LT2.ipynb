{
 "cells": [
  {
   "cell_type": "markdown",
   "metadata": {},
   "source": [
    "### <font size=4 color=\"0066FF\"> Make a cntlist(the number frequency)"
   ]
  },
  {
   "cell_type": "code",
   "execution_count": 63,
   "metadata": {},
   "outputs": [],
   "source": [
    "### 1) CSV File open and conver a string\n",
    "### 2) make a  cntlist[46]  0..45\n",
    "\n",
    "import csv\n",
    "\n",
    "cntlist = [0] * 46   # 0 ~ 45. not use 0 index.\n",
    "with open('lt.csv','rb') as csvfile:\n",
    "    readfile = csv.reader(csvfile, delimiter=',')\n",
    "    for readline in readfile:\n",
    "        for i in range(6):\n",
    "            cntlist[int(readline[i])] += 1\n",
    "        #print readline[i], cntlist[int(readline[i])] \n"
   ]
  },
  {
   "cell_type": "markdown",
   "metadata": {},
   "source": [
    "### Bar Graph 1. The Number Frequencies (order by the number)\n",
    "<font size=3 color=\"0066FF\">  cntlist --(enumerate)--> tuple --(dict)---> dictionary--(Series index by dict.keys)--> Series <br>\n",
    "    <pre>0       0\n",
    "1     103\n",
    "2      88\n",
    "3      92\n",
    "....</pre>"
   ]
  },
  {
   "cell_type": "code",
   "execution_count": 64,
   "metadata": {
    "scrolled": true
   },
   "outputs": [
    {
     "name": "stdout",
     "output_type": "stream",
     "text": [
      "{0: 0, 1: 103, 2: 88, 3: 93, 4: 99, 5: 101, 6: 86, 7: 96, 8: 100, 9: 71, 10: 92, 11: 96, 12: 91, 13: 99, 14: 103, 15: 96, 16: 87, 17: 102, 18: 97, 19: 91, 20: 112, 21: 85, 22: 79, 23: 86, 24: 92, 25: 97, 26: 99, 27: 110, 28: 80, 29: 89, 30: 80, 31: 95, 32: 83, 33: 93, 34: 109, 35: 88, 36: 92, 37: 103, 38: 91, 39: 95, 40: 113, 41: 81, 42: 86, 43: 97, 44: 93, 45: 93}\n"
     ]
    },
    {
     "data": {
      "image/png": "[encoded data removed]",
      "text/plain": [
       "<matplotlib.figure.Figure at 0x7fc9610aff10>"
      ]
     },
     "metadata": {},
     "output_type": "display_data"
    }
   ],
   "source": [
    "### Convert CNTLIST  into  DICTIONARY\n",
    "### DICT --> DataFrame\n",
    "\n",
    "from pandas import Series, DataFrame\n",
    "import pandas as pd\n",
    "\n",
    "from itertools import cycle, islice\n",
    "\n",
    "import matplotlib.pyplot as plt\n",
    "import matplotlib\n",
    "%matplotlib inline\n",
    "\n",
    "\n",
    "cntdict = dict(enumerate(cntlist))\n",
    "print cntdict\n",
    "df = Series(cntdict, index=cntdict.keys())\n",
    "#print df\n",
    "my_colors = list(islice(cycle(['orange', 'darkgrey', 'green', 'y', 'k']), None, len(df)))\n",
    "\n",
    "df.plot(kind='bar', figsize=(15,4),  color=my_colors)\n",
    "plt.xlim(0,46)\n",
    "plt.ylim((60,120))\n",
    "plt.show()"
   ]
  },
  {
   "cell_type": "markdown",
   "metadata": {},
   "source": [
    "### Bar Graph 2: Most Frequently Picked"
   ]
  },
  {
   "cell_type": "code",
   "execution_count": 65,
   "metadata": {},
   "outputs": [
    {
     "data": {
      "image/png": "[encoded data removed]",
      "text/plain": [
       "<matplotlib.figure.Figure at 0x7fc96184c210>"
      ]
     },
     "metadata": {},
     "output_type": "display_data"
    }
   ],
   "source": [
    "\n",
    "df.sort_values(ascending=False).plot(kind='bar', figsize=(15,4),  color=my_colors)\n",
    "plt.xlim(0,46)\n",
    "plt.ylim((50,120))\n",
    "plt.show()"
   ]
  },
  {
   "cell_type": "code",
   "execution_count": null,
   "metadata": {
    "collapsed": true
   },
   "outputs": [],
   "source": []
  }
 ],
 "metadata": {
  "kernelspec": {
   "display_name": "Python 2",
   "language": "python",
   "name": "python2"
  },
  "language_info": {
   "codemirror_mode": {
    "name": "ipython",
    "version": 2
   },
   "file_extension": ".py",
   "mimetype": "text/x-python",
   "name": "python",
   "nbconvert_exporter": "python",
   "pygments_lexer": "ipython2",
   "version": "2.7.14"
  }
 },
 "nbformat": 4,
 "nbformat_minor": 1
}
